{
 "cells": [
  {
   "cell_type": "code",
   "execution_count": null,
   "metadata": {},
   "outputs": [],
   "source": [
    "import os\n",
    "import sys\n",
    "from pathlib import Path\n",
    "sys.path.append(os.path.join(Path().resolve(), '..'))"
   ]
  },
  {
   "cell_type": "code",
   "execution_count": null,
   "metadata": {},
   "outputs": [],
   "source": [
    "import pandas as pd\n",
    "import matplotlib.pyplot as plt\n",
    "from cycler import cycler\n",
    "from src.module.hierarchical_svd import HierarchicalSVD\n",
    "\n",
    "plt.rcParams['text.color'] = 'white'\n",
    "plt.rcParams['font.family'] = 'sans-serif'\n",
    "plt.rcParams['font.size'] = 15\n",
    "plt.rcParams['axes.titlecolor'] = 'white'\n",
    "plt.rcParams['xtick.direction'] = 'in'\n",
    "plt.rcParams['xtick.major.width'] = 1.0\n",
    "plt.rcParams['xtick.color'] = 'white'\n",
    "plt.rcParams['axes.labelcolor'] = 'white'\n",
    "plt.rcParams['ytick.direction'] = 'in'\n",
    "plt.rcParams['ytick.major.width'] = 1.0\n",
    "plt.rcParams['ytick.color'] = 'white'\n",
    "plt.rcParams['axes.linewidth'] = 1.0\n",
    "plt.rcParams[\"axes.facecolor\"] = \"#191919\"\n",
    "plt.rcParams[\"axes.edgecolor\"] = \"white\"\n",
    "plt.rcParams[\"figure.facecolor\"] = \"#191919\"\n",
    "plt.rcParams[\"figure.edgecolor\"] = \"white\"\n",
    "plt.rcParams[\"legend.facecolor\"] =\"dimgray\"\n",
    "plt.rcParams[\"legend.labelcolor\"] =\"white\"\n",
    "plt.rcParams['axes.prop_cycle'] = cycler('color', ['#8dd3c7', '#feffb3', '#bfbbd9', '#fa8174', '#81b1d2', '#fdb462', '#b3de69', '#bc82bd', '#ccebc4', '#ffed6f'])"
   ]
  },
  {
   "cell_type": "code",
   "execution_count": null,
   "metadata": {},
   "outputs": [],
   "source": [
    "df = pd.read_csv('../data/Sunspots.csv')\n",
    "X = df['Monthly Mean Total Sunspot Number'].values"
   ]
  },
  {
   "cell_type": "code",
   "execution_count": null,
   "metadata": {},
   "outputs": [],
   "source": [
    "model = HierarchicalSVD(w_0=12)\n",
    "model.fit(X)\n",
    "X_re = (model.P@model.V.T).flatten()\n",
    "\n",
    "plt.figure(figsize=(12, 4))\n",
    "plt.plot(df['Monthly Mean Total Sunspot Number'])\n",
    "plt.plot(X_re)\n",
    "plt.tight_layout()\n",
    "plt.legend(['Original', 'Reconstructed'])"
   ]
  },
  {
   "cell_type": "code",
   "execution_count": null,
   "metadata": {},
   "outputs": [],
   "source": [
    "model = HierarchicalSVD()\n",
    "pi_dict = dict()\n",
    "\n",
    "for w_0 in [4, 5, 6]:\n",
    "    for k in [1, 2]:\n",
    "        model.set_params(w_0=w_0, k=k, W=2, L=8)\n",
    "        model.fit(X)\n",
    "        pi_dict.update(model.pi_dict)\n",
    "pi_dict = dict(sorted(pi_dict.items()))\n",
    "\n",
    "plt.plot(pi_dict.keys(), pi_dict.values(), marker=\"D\", markeredgecolor=\"blue\", markerfacecolor=\"lightblue\")\n",
    "plt.title(\"Power Profile\")\n",
    "plt.tight_layout()"
   ]
  }
 ],
 "metadata": {
  "kernelspec": {
   "display_name": "implementation-GBxrxlFP",
   "language": "python",
   "name": "python3"
  },
  "language_info": {
   "codemirror_mode": {
    "name": "ipython",
    "version": 3
   },
   "file_extension": ".py",
   "mimetype": "text/x-python",
   "name": "python",
   "nbconvert_exporter": "python",
   "pygments_lexer": "ipython3",
   "version": "3.10.12"
  },
  "orig_nbformat": 4
 },
 "nbformat": 4,
 "nbformat_minor": 2
}
